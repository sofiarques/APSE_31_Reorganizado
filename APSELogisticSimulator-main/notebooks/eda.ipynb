{
 "cells": [
  {
   "cell_type": "code",
   "execution_count": 1,
   "metadata": {},
   "outputs": [],
   "source": [
    "import pandas as pd\n",
    "import os"
   ]
  },
  {
   "cell_type": "code",
   "execution_count": 2,
   "metadata": {},
   "outputs": [],
   "source": [
    "eventos=pd.read_json(\"../data/eda/simulation.jsonlines\", orient=\"records\",lines=True)\n",
    "planes=pd.read_json(\"../data/eda/plans.jsonlines\", orient=\"records\",lines=True)\n"
   ]
  },
  {
   "cell_type": "code",
   "execution_count": 3,
   "metadata": {},
   "outputs": [
    {
     "name": "stdout",
     "output_type": "stream",
     "text": [
      "Camiones:  19\n",
      "Localizaciones:  2637\n",
      "Viajes:  647\n",
      "Simulaciones:  100\n"
     ]
    }
   ],
   "source": [
    "# ¿Cuántos camiones hay?\n",
    "print(\"Camiones: \", eventos[\"truckId\"].nunique())\n",
    "# ¿Cuántas localizaciones hay?\n",
    "paquetes = pd.concat([pd.DataFrame(x) for x in planes[\"items\"]])\n",
    "print(\"Localizaciones: \", paquetes[\"locationId\"].nunique())\n",
    "# ¿Cuántos viajes hay? Interpretando que un viaje es la ruta de un camión en una simulación\n",
    "print(\"Viajes: \", len(eventos.groupby([\"truckId\", \"simulationId\"])))\n",
    "# ¿Cuántas simulaciones hay?\n",
    "print(\"Simulaciones: \", eventos[\"simulationId\"].nunique())"
   ]
  },
  {
   "cell_type": "code",
   "execution_count": 4,
   "metadata": {},
   "outputs": [
    {
     "data": {
      "text/plain": [
       "count    8346.000000\n",
       "mean      838.792475\n",
       "std       816.128037\n",
       "min         0.000000\n",
       "25%       308.000000\n",
       "50%       569.500000\n",
       "75%      1046.750000\n",
       "max      5442.000000\n",
       "Name: duration, dtype: float64"
      ]
     },
     "execution_count": 4,
     "metadata": {},
     "output_type": "execute_result"
    }
   ],
   "source": [
    "viajes = []\n",
    "for truck_list in planes[\"trucks\"]:\n",
    "    for truck in truck_list:\n",
    "        viajes.append(pd.DataFrame(truck[\"route\"]))\n",
    "viajes = pd.concat(viajes)\n",
    "viajes.duration.describe()"
   ]
  },
  {
   "cell_type": "code",
   "execution_count": 5,
   "metadata": {},
   "outputs": [
    {
     "data": {
      "text/plain": [
       "count    8336.000000\n",
       "mean      839.798704\n",
       "std       816.099847\n",
       "min        21.000000\n",
       "25%       308.750000\n",
       "50%       570.000000\n",
       "75%      1047.000000\n",
       "max      5442.000000\n",
       "Name: duration, dtype: float64"
      ]
     },
     "execution_count": 5,
     "metadata": {},
     "output_type": "execute_result"
    }
   ],
   "source": [
    "# filtramos los viajes que no tienen duración\n",
    "viajes[viajes.duration > 0].duration.describe()"
   ]
  },
  {
   "cell_type": "code",
   "execution_count": 6,
   "metadata": {},
   "outputs": [
    {
     "data": {
      "text/plain": [
       "count      8669.000000\n",
       "mean      84265.864575\n",
       "std       37377.325128\n",
       "min           0.000000\n",
       "25%       60600.000000\n",
       "50%       60630.000000\n",
       "75%      120600.000000\n",
       "max      120960.000000\n",
       "Name: delta, dtype: float64"
      ]
     },
     "execution_count": 6,
     "metadata": {},
     "output_type": "execute_result"
    }
   ],
   "source": [
    "# Ordenamos los eventos por simulación, camión y tiempo\n",
    "eventos = eventos.sort_values([\"simulationId\", \"truckId\", \"eventTime\"])\n",
    "# filtramos para quedarnos con los eventos que nos interesan\n",
    "entregas = eventos[eventos.eventType.isin([\"Truck started delivering\", \"Truck ended delivering\"])]\n",
    "# restamos a cada fila el tiempo del evento anterior y luego nos quedamos solo con los eventos de fin de entrega\n",
    "entregas = entregas.assign(delta=entregas.eventTime - entregas.eventTime.shift(1)).loc[entregas.eventType == \"Truck ended delivering\"]\n",
    "entregas.delta.describe()"
   ]
  },
  {
   "cell_type": "code",
   "execution_count": 18,
   "metadata": {},
   "outputs": [
    {
     "data": {
      "text/plain": [
       "count      8032.000000\n",
       "mean      90948.802291\n",
       "std       29999.923831\n",
       "min       60300.000000\n",
       "25%       60600.000000\n",
       "50%      120570.000000\n",
       "75%      120600.000000\n",
       "max      120960.000000\n",
       "Name: delta, dtype: float64"
      ]
     },
     "execution_count": 18,
     "metadata": {},
     "output_type": "execute_result"
    }
   ],
   "source": [
    "\n",
    "# filtramos las entregas que no tienen duración\n",
    "tiempos_entrega = entregas[entregas.delta > 0].delta.describe()\n",
    "tiempos_entrega"
   ]
  },
  {
   "cell_type": "code",
   "execution_count": 8,
   "metadata": {},
   "outputs": [
    {
     "data": {
      "text/plain": [
       "<AxesSubplot:ylabel='Frequency'>"
      ]
     },
     "execution_count": 8,
     "metadata": {},
     "output_type": "execute_result"
    },
    {
     "data": {
      "image/png": "[encoded data removed]",
      "text/plain": [
       "<Figure size 640x480 with 1 Axes>"
      ]
     },
     "metadata": {},
     "output_type": "display_data"
    }
   ],
   "source": [
    "# en una gráfica\n",
    "entregas[entregas.delta > 0].delta.plot.hist(bins=100)"
   ]
  },
  {
   "cell_type": "code",
   "execution_count": 9,
   "metadata": {},
   "outputs": [
    {
     "data": {
      "text/plain": [
       "count    1296.000000\n",
       "mean        6.439815\n",
       "std         3.154124\n",
       "min         2.000000\n",
       "25%         4.000000\n",
       "50%         6.000000\n",
       "75%         9.000000\n",
       "max        15.000000\n",
       "dtype: float64"
      ]
     },
     "execution_count": 9,
     "metadata": {},
     "output_type": "execute_result"
    }
   ],
   "source": [
    "# Número de paquetes por cada camión. Considerando en cada simulación\n",
    "camiones = []\n",
    "for simId in planes.simulationId.unique():\n",
    "    for truck in planes[planes.simulationId == simId].trucks.values[0]:\n",
    "        camiones.append(pd.DataFrame(truck[\"route\"]).assign(simulationId=simId, truckId=truck[\"truck_id\"]))\n",
    "camiones = pd.concat(camiones)\n",
    "paquetes_camion = camiones.groupby([\"simulationId\", \"truckId\"]).size().describe()\n",
    "paquetes_camion"
   ]
  },
  {
   "cell_type": "code",
   "execution_count": 10,
   "metadata": {},
   "outputs": [
    {
     "data": {
      "text/plain": [
       "count    204.000000\n",
       "mean      86.294118\n",
       "std        9.408191\n",
       "min       62.000000\n",
       "25%       80.750000\n",
       "50%       86.000000\n",
       "75%       93.000000\n",
       "max      110.000000\n",
       "Name: items, dtype: float64"
      ]
     },
     "execution_count": 10,
     "metadata": {},
     "output_type": "execute_result"
    }
   ],
   "source": [
    "# Número de paquetes por cada simulación\n",
    "paquetes_simulacion = planes[\"items\"].apply(len).describe()\n",
    "paquetes_simulacion"
   ]
  },
  {
   "cell_type": "code",
   "execution_count": 11,
   "metadata": {},
   "outputs": [
    {
     "name": "stdout",
     "output_type": "stream",
     "text": [
      "Las localizaciones más visitadas, con  9  visitas, son:  ['a9881819c6cd403014ae943b' 'f7f92727eca6495955420e45'\n",
      " '855b071bf897e2265abd7096' '110fa557196f4977f47ee8a8']\n",
      "Las localizaciones con más paquetes recibidos son:\n",
      "110fa557196f4977f47ee8a8    31\n",
      "794ef428d858678e69ec18f4    26\n",
      "544dc8cb8104ca9be64e088e    24\n",
      "3163705e2e4c79485482b907    24\n",
      "6e6eb4d6c2908b30c625409c    23\n",
      "7cf64b3077aaeaf30d2d9a0a    22\n",
      "f7f92727eca6495955420e45    21\n",
      "31d46e31a77f056cf15f5e18    21\n",
      "326ae8dc7810de94ef36cda6    21\n",
      "3e94f75d0fc870c190c36cd1    20\n",
      "Name: items, dtype: int64\n",
      "Los camiones con más paquetes transportados son:\n",
      "truckId\n",
      "5534TPH    1595\n",
      "3321FBL    1541\n",
      "3953RLD    1272\n",
      "5030LXK     881\n",
      "6270NFM     840\n",
      "0013DYS     561\n",
      "9593DXM     424\n",
      "8386WZB     331\n",
      "6965XLY     329\n",
      "0781PZL     217\n",
      "dtype: int64\n",
      "Número de localizaciones distintas que ha visitado cada camión:\n",
      "truckId\n",
      "0013DYS     405\n",
      "0184WLX       5\n",
      "0265TYL      43\n",
      "0781PZL     171\n",
      "1012GWV       4\n",
      "1161GJN       7\n",
      "1316CKM       3\n",
      "1489WHW       7\n",
      "1669HSZ      36\n",
      "2423VRT     113\n",
      "3321FBL    1049\n",
      "3953RLD     934\n",
      "5030LXK     648\n",
      "5534TPH    1126\n",
      "6270NFM     635\n",
      "6965XLY     248\n",
      "8327DZH      13\n",
      "8386WZB     235\n",
      "8809GPH      30\n",
      "9593DXM     297\n",
      "Name: destination, dtype: int64\n",
      "Distribución del número de eventos de cada tipo\n",
      "AxesSubplot(0.125,0.11;0.775x0.77)\n"
     ]
    },
    {
     "data": {
      "image/png": "[encoded data removed]",
      "text/plain": [
       "<Figure size 640x480 with 1 Axes>"
      ]
     },
     "metadata": {},
     "output_type": "display_data"
    }
   ],
   "source": [
    "# Localización más visitada. Considero la localización que más veces se ha visitado en diferentes simulaciones\n",
    "loc_counts = planes[\"items\"].apply(lambda x: set([l[\"locationId\"] for l in x])).explode().value_counts()\n",
    "print(\"Las localizaciones más visitadas, con \",loc_counts.values[0], \" visitas, son: \", loc_counts.where(loc_counts == loc_counts.values[0]).dropna().index.values)\n",
    "\n",
    "# Número de paquetes recibidos por cada localización\n",
    "loc_counts = planes[\"items\"].apply(lambda x: [l[\"locationId\"] for l in x]).explode().value_counts()\n",
    "print(\"Las localizaciones con más paquetes recibidos son:\")\n",
    "print(loc_counts.head(10))\n",
    "\n",
    "# Número de paquetes transportados en total en cada camión\n",
    "print(\"Los camiones con más paquetes transportados son:\")\n",
    "print(camiones.groupby([\"truckId\"]).size().sort_values(ascending=False).head(10))\n",
    "\n",
    "# Número de localizaciones distintas que ha visitado cada camión\n",
    "print(\"Número de localizaciones distintas que ha visitado cada camión:\")\n",
    "print(camiones.groupby([\"truckId\"])[\"destination\"].nunique())\n",
    "\n",
    "# Distribución del número de eventos de cada tipo\n",
    "print(\"Distribución del número de eventos de cada tipo\")\n",
    "print(eventos.eventType.value_counts().plot.bar())\n",
    "\n",
    "# Número de paquetes que lleva cada camión en cada viaje (ya calculada en la sección anterior)"
   ]
  },
  {
   "cell_type": "code",
   "execution_count": 12,
   "metadata": {},
   "outputs": [],
   "source": [
    "eventos = eventos.sort_values([\"simulationId\", \"truckId\", \"eventTime\"])\n",
    "eventos[\"prev_event\"] = eventos.groupby([\"truckId\", \"simulationId\"])[\"eventType\"].shift(1)\n",
    "eventos[\"prev_time\"] = eventos.groupby([\"truckId\", \"simulationId\"])[\"eventTime\"].shift(1)\n",
    "eventos[\"delta\"] = eventos.eventTime - eventos.prev_time"
   ]
  },
  {
   "cell_type": "code",
   "execution_count": 13,
   "metadata": {},
   "outputs": [
    {
     "name": "stdout",
     "output_type": "stream",
     "text": [
      "La localización que más camiones distintos ( 20 ) han visitado es:  ce6feed06bc1a9e5aff95f04\n",
      "Tiempos de viaje: \n",
      "count    4.127000e+03\n",
      "mean     8.886455e+05\n",
      "std      9.458833e+05\n",
      "min      0.000000e+00\n",
      "25%      2.680950e+05\n",
      "50%      6.051600e+05\n",
      "75%      1.142160e+06\n",
      "max      6.598590e+06\n",
      "Name: delta, dtype: float64\n",
      "Horas que cada camión ha estado activo: \n",
      "truckId\n",
      "0013DYS     89.882217\n",
      "0184WLX      1.488900\n",
      "0265TYL      9.453100\n",
      "0781PZL     35.891433\n",
      "1012GWV      1.328825\n",
      "1161GJN      2.024775\n",
      "1489WHW      3.558133\n",
      "1669HSZ     12.557675\n",
      "2423VRT     24.440883\n",
      "3321FBL    194.855767\n",
      "3953RLD    167.681533\n",
      "5030LXK    162.207192\n",
      "5534TPH    220.037908\n",
      "6270NFM    132.996133\n",
      "6965XLY     83.237717\n",
      "8327DZH      4.097033\n",
      "8386WZB     83.632558\n",
      "8809GPH     13.054583\n",
      "9593DXM    114.663175\n",
      "Name: eventTime, dtype: float64\n",
      "De las cuales en viaje: \n",
      "truckId\n",
      "0013DYS     67.939142\n",
      "0184WLX      1.287000\n",
      "0265TYL      7.874367\n",
      "0781PZL     25.474092\n",
      "1012GWV      1.227642\n",
      "1161GJN      0.625025\n",
      "1489WHW      3.271733\n",
      "1669HSZ     10.261717\n",
      "2423VRT     17.565508\n",
      "3321FBL    139.008383\n",
      "3953RLD    120.692717\n",
      "5030LXK    124.201267\n",
      "5534TPH    157.878550\n",
      "6270NFM    101.251525\n",
      "6965XLY     65.701742\n",
      "8327DZH      3.491175\n",
      "8386WZB     66.753875\n",
      "8809GPH     10.245575\n",
      "9593DXM     93.982342\n",
      "Name: delta, dtype: float64\n",
      "Y entregando paquetes: \n",
      "truckId\n",
      "0013DYS    12.834558\n",
      "0184WLX     0.184508\n",
      "0265TYL     1.207933\n",
      "0781PZL     6.054967\n",
      "1012GWV     0.100650\n",
      "1161GJN     0.167650\n",
      "1489WHW     0.218008\n",
      "1669HSZ     0.973117\n",
      "2423VRT     2.752133\n",
      "3321FBL    37.730700\n",
      "3953RLD    31.288883\n",
      "5030LXK    21.875508\n",
      "5534TPH    39.411483\n",
      "6270NFM    21.105992\n",
      "6965XLY     8.506817\n",
      "8327DZH     0.570658\n",
      "8386WZB     6.525975\n",
      "8809GPH     1.376442\n",
      "9593DXM    10.030900\n",
      "Name: delta, dtype: float64\n",
      "Diferencia de tiempos entre un evento y el siguiente:\n",
      "count    2.624000e+04\n",
      "mean     1.861837e+05\n",
      "std      5.136736e+05\n",
      "min      0.000000e+00\n",
      "25%      0.000000e+00\n",
      "50%      1.110000e+03\n",
      "75%      1.206000e+05\n",
      "max      6.598590e+06\n",
      "Name: delta, dtype: float64\n",
      "Agregando por tipo de evento origen y destino:\n",
      "                                                    count          mean  \\\n",
      "prev_event               eventType                                        \n",
      "Truck arrived            Truck ended delivering     401.0  9.291763e+04   \n",
      "                         Truck started delivering  3080.0  1.179234e+03   \n",
      "Truck departed           Truck arrived             3039.0  9.294334e+05   \n",
      "                         Truck started delivering   442.0  9.676582e+05   \n",
      "Truck departed to depot  Truck ended route          646.0  1.304786e+06   \n",
      "Truck ended delivering   Truck departed            2835.0  2.010370e+02   \n",
      "                         Truck departed to depot    646.0  2.379102e+02   \n",
      "                         Truck ended delivering     596.0  9.039755e+04   \n",
      "                         Truck started delivering  4592.0  8.048846e+02   \n",
      "Truck initialized        Truck departed             100.0  1.459200e+03   \n",
      "                         Truck departed to depot      1.0  9.000000e+02   \n",
      "                         Truck received packets     546.0  0.000000e+00   \n",
      "Truck received packets   Truck departed             546.0  1.171703e+03   \n",
      "                         Truck initialized          101.0  3.801980e+01   \n",
      "Truck started delivering Truck arrived              442.0  0.000000e+00   \n",
      "                         Truck ended delivering    7672.0  8.333731e+04   \n",
      "                         Truck started delivering   555.0  9.184330e+04   \n",
      "\n",
      "                                                            std      min  \\\n",
      "prev_event               eventType                                         \n",
      "Truck arrived            Truck ended delivering    2.994899e+04  60570.0   \n",
      "                         Truck started delivering  1.070556e+04      0.0   \n",
      "Truck departed           Truck arrived             8.509466e+05  23610.0   \n",
      "                         Truck started delivering  9.392174e+05  26550.0   \n",
      "Truck departed to depot  Truck ended route         1.261042e+06  65340.0   \n",
      "Truck ended delivering   Truck departed            1.160363e+02     30.0   \n",
      "                         Truck departed to depot   1.215703e+02     60.0   \n",
      "                         Truck ended delivering    3.002422e+04  60510.0   \n",
      "                         Truck started delivering  8.916110e+03      0.0   \n",
      "Truck initialized        Truck departed            8.199614e+02    510.0   \n",
      "                         Truck departed to depot            NaN    900.0   \n",
      "                         Truck received packets    0.000000e+00      0.0   \n",
      "Truck received packets   Truck departed            5.374147e+02    300.0   \n",
      "                         Truck initialized         2.874090e+01     30.0   \n",
      "Truck started delivering Truck arrived             0.000000e+00      0.0   \n",
      "                         Truck ended delivering    3.813467e+04      0.0   \n",
      "                         Truck started delivering  3.000155e+04  60480.0   \n",
      "\n",
      "                                                        25%       50%  \\\n",
      "prev_event               eventType                                      \n",
      "Truck arrived            Truck ended delivering     60600.0  120570.0   \n",
      "                         Truck started delivering       0.0       0.0   \n",
      "Truck departed           Truck arrived             352710.0  675660.0   \n",
      "                         Truck started delivering  363112.5  638085.0   \n",
      "Truck departed to depot  Truck ended route         471532.5  785805.0   \n",
      "Truck ended delivering   Truck departed               150.0     180.0   \n",
      "                         Truck departed to depot      150.0     210.0   \n",
      "                         Truck ended delivering     60600.0   60630.0   \n",
      "                         Truck started delivering       0.0       0.0   \n",
      "Truck initialized        Truck departed               900.0    1170.0   \n",
      "                         Truck departed to depot      900.0     900.0   \n",
      "                         Truck received packets         0.0       0.0   \n",
      "Truck received packets   Truck departed               750.0    1080.0   \n",
      "                         Truck initialized             30.0      30.0   \n",
      "Truck started delivering Truck arrived                  0.0       0.0   \n",
      "                         Truck ended delivering     60600.0   60630.0   \n",
      "                         Truck started delivering   60600.0  120570.0   \n",
      "\n",
      "                                                         75%        max  \n",
      "prev_event               eventType                                       \n",
      "Truck arrived            Truck ended delivering     120600.0   120630.0  \n",
      "                         Truck started delivering        0.0   120630.0  \n",
      "Truck departed           Truck arrived             1197705.0  6598590.0  \n",
      "                         Truck started delivering  1281577.5  5697630.0  \n",
      "Truck departed to depot  Truck ended route         1789290.0  6479670.0  \n",
      "Truck ended delivering   Truck departed                240.0     3000.0  \n",
      "                         Truck departed to depot       270.0      930.0  \n",
      "                         Truck ended delivering     120600.0   120660.0  \n",
      "                         Truck started delivering        0.0   120630.0  \n",
      "Truck initialized        Truck departed               1642.5     3840.0  \n",
      "                         Truck departed to depot       900.0      900.0  \n",
      "                         Truck received packets          0.0        0.0  \n",
      "Truck received packets   Truck departed               1440.0     4230.0  \n",
      "                         Truck initialized              30.0      270.0  \n",
      "Truck started delivering Truck arrived                   0.0        0.0  \n",
      "                         Truck ended delivering     120600.0   120960.0  \n",
      "                         Truck started delivering   120600.0   121050.0  \n"
     ]
    }
   ],
   "source": [
    "# La localización que más camiones (distintos) han visitado\n",
    "loc = camiones.groupby([\"truckId\"])[\"destination\"].unique().explode().value_counts()\n",
    "print(\"La localización que más camiones distintos (\",loc.values[0] ,\") han visitado es: \", loc.index[0])\n",
    "\n",
    "# Tiempo de viaje máximo, mínimo y medio. Según los eventos de inicio y fin de viaje\n",
    "print(\"Tiempos de viaje: \")\n",
    "print(eventos[eventos.eventType.isin([\"Truck arrived\", \"Truck ended route\"])].delta.describe())\n",
    "\n",
    "# Tiempo de entrega máximo, mínimo y medio (ya calculado en la primera sección)\n",
    "\n",
    "# Nº de horas que cada camión ha estado activo\n",
    "print(\"Horas que cada camión ha estado activo: \")\n",
    "print(eventos.groupby([\"truckId\", \"simulationId\"]).eventTime.max().reset_index().groupby(\"truckId\")[\"eventTime\"].sum()/3600000)\n",
    "# Cuántas de viaje\n",
    "print(\"De las cuales en viaje: \")\n",
    "print(eventos[eventos.eventType.isin([\"Truck arrived\", \"Truck ended route\"])].groupby(\"truckId\").delta.sum()/3600000)\n",
    "# Cuántas en total (contando tiempos de entrega)\n",
    "print(\"Y entregando paquetes: \")\n",
    "print(entregas.groupby(\"truckId\").delta.sum()/3600000)\n",
    "\n",
    "\n",
    "# Diferencia de tiempos entre un evento y el siguiente (de la misma simulación y mismo camión)\n",
    "print(\"Diferencia de tiempos entre un evento y el siguiente:\")\n",
    "print(eventos.delta.describe())\n",
    "# Agregar por tipo de evento “origen” y “destino”\n",
    "print(\"Agregando por tipo de evento origen y destino:\")\n",
    "print(eventos.groupby([\"prev_event\", \"eventType\"]).delta.describe())"
   ]
  },
  {
   "cell_type": "code",
   "execution_count": 14,
   "metadata": {},
   "outputs": [
    {
     "data": {
      "text/html": [
       "<div>\n",
       "<style scoped>\n",
       "    .dataframe tbody tr th:only-of-type {\n",
       "        vertical-align: middle;\n",
       "    }\n",
       "\n",
       "    .dataframe tbody tr th {\n",
       "        vertical-align: top;\n",
       "    }\n",
       "\n",
       "    .dataframe thead th {\n",
       "        text-align: right;\n",
       "    }\n",
       "</style>\n",
       "<table border=\"1\" class=\"dataframe\">\n",
       "  <thead>\n",
       "    <tr style=\"text-align: right;\">\n",
       "      <th></th>\n",
       "      <th>simulationId</th>\n",
       "      <th>truckId</th>\n",
       "      <th>tiempo_plan</th>\n",
       "    </tr>\n",
       "  </thead>\n",
       "  <tbody>\n",
       "    <tr>\n",
       "      <th>0</th>\n",
       "      <td>007f3d08-14a7-4a93-af9e-f0d9cfbcea94</td>\n",
       "      <td>3321FBL</td>\n",
       "      <td>[614000, 397000, 259000, 349000, 384000, 26800...</td>\n",
       "    </tr>\n",
       "    <tr>\n",
       "      <th>1</th>\n",
       "      <td>007f3d08-14a7-4a93-af9e-f0d9cfbcea94</td>\n",
       "      <td>3953RLD</td>\n",
       "      <td>[4164000, 4064000]</td>\n",
       "    </tr>\n",
       "    <tr>\n",
       "      <th>2</th>\n",
       "      <td>007f3d08-14a7-4a93-af9e-f0d9cfbcea94</td>\n",
       "      <td>5030LXK</td>\n",
       "      <td>[189000, 1522000, 1655000, 1125000, 2093000, 6...</td>\n",
       "    </tr>\n",
       "    <tr>\n",
       "      <th>3</th>\n",
       "      <td>007f3d08-14a7-4a93-af9e-f0d9cfbcea94</td>\n",
       "      <td>5534TPH</td>\n",
       "      <td>[630000, 496000, 725000, 680000, 491000, 53400...</td>\n",
       "    </tr>\n",
       "    <tr>\n",
       "      <th>4</th>\n",
       "      <td>007f3d08-14a7-4a93-af9e-f0d9cfbcea94</td>\n",
       "      <td>6270NFM</td>\n",
       "      <td>[621000, 130000, 294000, 74000, 403000]</td>\n",
       "    </tr>\n",
       "    <tr>\n",
       "      <th>...</th>\n",
       "      <td>...</td>\n",
       "      <td>...</td>\n",
       "      <td>...</td>\n",
       "    </tr>\n",
       "    <tr>\n",
       "      <th>1291</th>\n",
       "      <td>fea13535-ade6-4215-96ca-dab5b4ef309b</td>\n",
       "      <td>0013DYS</td>\n",
       "      <td>[3714000, 3663000]</td>\n",
       "    </tr>\n",
       "    <tr>\n",
       "      <th>1292</th>\n",
       "      <td>fea13535-ade6-4215-96ca-dab5b4ef309b</td>\n",
       "      <td>3953RLD</td>\n",
       "      <td>[208000, 670000, 260000, 492000, 178000, 79900...</td>\n",
       "    </tr>\n",
       "    <tr>\n",
       "      <th>1293</th>\n",
       "      <td>fea13535-ade6-4215-96ca-dab5b4ef309b</td>\n",
       "      <td>5534TPH</td>\n",
       "      <td>[589000, 909000, 725000, 455000, 297000, 82900...</td>\n",
       "    </tr>\n",
       "    <tr>\n",
       "      <th>1294</th>\n",
       "      <td>fea13535-ade6-4215-96ca-dab5b4ef309b</td>\n",
       "      <td>6270NFM</td>\n",
       "      <td>[445000, 223000, 219000, 408000, 1538000, 1591...</td>\n",
       "    </tr>\n",
       "    <tr>\n",
       "      <th>1295</th>\n",
       "      <td>fea13535-ade6-4215-96ca-dab5b4ef309b</td>\n",
       "      <td>6965XLY</td>\n",
       "      <td>[324000, 1721000, 157000, 300000, 2620000, 472...</td>\n",
       "    </tr>\n",
       "  </tbody>\n",
       "</table>\n",
       "<p>1296 rows × 3 columns</p>\n",
       "</div>"
      ],
      "text/plain": [
       "                              simulationId  truckId  \\\n",
       "0     007f3d08-14a7-4a93-af9e-f0d9cfbcea94  3321FBL   \n",
       "1     007f3d08-14a7-4a93-af9e-f0d9cfbcea94  3953RLD   \n",
       "2     007f3d08-14a7-4a93-af9e-f0d9cfbcea94  5030LXK   \n",
       "3     007f3d08-14a7-4a93-af9e-f0d9cfbcea94  5534TPH   \n",
       "4     007f3d08-14a7-4a93-af9e-f0d9cfbcea94  6270NFM   \n",
       "...                                    ...      ...   \n",
       "1291  fea13535-ade6-4215-96ca-dab5b4ef309b  0013DYS   \n",
       "1292  fea13535-ade6-4215-96ca-dab5b4ef309b  3953RLD   \n",
       "1293  fea13535-ade6-4215-96ca-dab5b4ef309b  5534TPH   \n",
       "1294  fea13535-ade6-4215-96ca-dab5b4ef309b  6270NFM   \n",
       "1295  fea13535-ade6-4215-96ca-dab5b4ef309b  6965XLY   \n",
       "\n",
       "                                            tiempo_plan  \n",
       "0     [614000, 397000, 259000, 349000, 384000, 26800...  \n",
       "1                                    [4164000, 4064000]  \n",
       "2     [189000, 1522000, 1655000, 1125000, 2093000, 6...  \n",
       "3     [630000, 496000, 725000, 680000, 491000, 53400...  \n",
       "4               [621000, 130000, 294000, 74000, 403000]  \n",
       "...                                                 ...  \n",
       "1291                                 [3714000, 3663000]  \n",
       "1292  [208000, 670000, 260000, 492000, 178000, 79900...  \n",
       "1293  [589000, 909000, 725000, 455000, 297000, 82900...  \n",
       "1294  [445000, 223000, 219000, 408000, 1538000, 1591...  \n",
       "1295  [324000, 1721000, 157000, 300000, 2620000, 472...  \n",
       "\n",
       "[1296 rows x 3 columns]"
      ]
     },
     "execution_count": 14,
     "metadata": {},
     "output_type": "execute_result"
    }
   ],
   "source": [
    "tiempos_plan = camiones.sort_values([\"simulationId\",\"truckId\"]).assign(duration=lambda x: x[\"duration\"]*1000).groupby([\"simulationId\",\"truckId\"]).duration.agg(list).reset_index()\n",
    "tiempos_plan.rename(columns={\"duration\":\"tiempo_plan\"}, inplace=True)\n",
    "tiempos_plan"
   ]
  },
  {
   "cell_type": "code",
   "execution_count": 15,
   "metadata": {},
   "outputs": [
    {
     "data": {
      "text/html": [
       "<div>\n",
       "<style scoped>\n",
       "    .dataframe tbody tr th:only-of-type {\n",
       "        vertical-align: middle;\n",
       "    }\n",
       "\n",
       "    .dataframe tbody tr th {\n",
       "        vertical-align: top;\n",
       "    }\n",
       "\n",
       "    .dataframe thead th {\n",
       "        text-align: right;\n",
       "    }\n",
       "</style>\n",
       "<table border=\"1\" class=\"dataframe\">\n",
       "  <thead>\n",
       "    <tr style=\"text-align: right;\">\n",
       "      <th></th>\n",
       "      <th>simulationId</th>\n",
       "      <th>truckId</th>\n",
       "      <th>tiempo_sim</th>\n",
       "    </tr>\n",
       "  </thead>\n",
       "  <tbody>\n",
       "    <tr>\n",
       "      <th>0</th>\n",
       "      <td>007f3d08-14a7-4a93-af9e-f0d9cfbcea94</td>\n",
       "      <td>3321FBL</td>\n",
       "      <td>[0.0, 482520.0, 311850.0, 418680.0, 458820.0, ...</td>\n",
       "    </tr>\n",
       "    <tr>\n",
       "      <th>1</th>\n",
       "      <td>007f3d08-14a7-4a93-af9e-f0d9cfbcea94</td>\n",
       "      <td>3953RLD</td>\n",
       "      <td>[0.0, 4524090.0]</td>\n",
       "    </tr>\n",
       "    <tr>\n",
       "      <th>2</th>\n",
       "      <td>007f3d08-14a7-4a93-af9e-f0d9cfbcea94</td>\n",
       "      <td>5030LXK</td>\n",
       "      <td>[231120.0, 1811130.0, 1950900.0, 0.0, 2418600....</td>\n",
       "    </tr>\n",
       "    <tr>\n",
       "      <th>3</th>\n",
       "      <td>007f3d08-14a7-4a93-af9e-f0d9cfbcea94</td>\n",
       "      <td>5534TPH</td>\n",
       "      <td>[791640.0, 618480.0, 894330.0, 827790.0, 59145...</td>\n",
       "    </tr>\n",
       "    <tr>\n",
       "      <th>4</th>\n",
       "      <td>007f3d08-14a7-4a93-af9e-f0d9cfbcea94</td>\n",
       "      <td>6270NFM</td>\n",
       "      <td>[776190.0, 161310.0, 357180.0, 88740.0, 474390.0]</td>\n",
       "    </tr>\n",
       "    <tr>\n",
       "      <th>...</th>\n",
       "      <td>...</td>\n",
       "      <td>...</td>\n",
       "      <td>...</td>\n",
       "    </tr>\n",
       "    <tr>\n",
       "      <th>641</th>\n",
       "      <td>fea13535-ade6-4215-96ca-dab5b4ef309b</td>\n",
       "      <td>0013DYS</td>\n",
       "      <td>[3901230.0, 3846930.0]</td>\n",
       "    </tr>\n",
       "    <tr>\n",
       "      <th>642</th>\n",
       "      <td>fea13535-ade6-4215-96ca-dab5b4ef309b</td>\n",
       "      <td>3953RLD</td>\n",
       "      <td>[252840.0, 801060.0, 310980.0, 0.0, 210720.0, ...</td>\n",
       "    </tr>\n",
       "    <tr>\n",
       "      <th>643</th>\n",
       "      <td>fea13535-ade6-4215-96ca-dab5b4ef309b</td>\n",
       "      <td>5534TPH</td>\n",
       "      <td>[723990.0, 1106700.0, 871290.0, 545490.0, 3529...</td>\n",
       "    </tr>\n",
       "    <tr>\n",
       "      <th>644</th>\n",
       "      <td>fea13535-ade6-4215-96ca-dab5b4ef309b</td>\n",
       "      <td>6270NFM</td>\n",
       "      <td>[576960.0, 287250.0, 278220.0, 516150.0, 19308...</td>\n",
       "    </tr>\n",
       "    <tr>\n",
       "      <th>645</th>\n",
       "      <td>fea13535-ade6-4215-96ca-dab5b4ef309b</td>\n",
       "      <td>6965XLY</td>\n",
       "      <td>[420690.0, 2215560.0, 198720.0, 372420.0, 3208...</td>\n",
       "    </tr>\n",
       "  </tbody>\n",
       "</table>\n",
       "<p>646 rows × 3 columns</p>\n",
       "</div>"
      ],
      "text/plain": [
       "                             simulationId  truckId  \\\n",
       "0    007f3d08-14a7-4a93-af9e-f0d9cfbcea94  3321FBL   \n",
       "1    007f3d08-14a7-4a93-af9e-f0d9cfbcea94  3953RLD   \n",
       "2    007f3d08-14a7-4a93-af9e-f0d9cfbcea94  5030LXK   \n",
       "3    007f3d08-14a7-4a93-af9e-f0d9cfbcea94  5534TPH   \n",
       "4    007f3d08-14a7-4a93-af9e-f0d9cfbcea94  6270NFM   \n",
       "..                                    ...      ...   \n",
       "641  fea13535-ade6-4215-96ca-dab5b4ef309b  0013DYS   \n",
       "642  fea13535-ade6-4215-96ca-dab5b4ef309b  3953RLD   \n",
       "643  fea13535-ade6-4215-96ca-dab5b4ef309b  5534TPH   \n",
       "644  fea13535-ade6-4215-96ca-dab5b4ef309b  6270NFM   \n",
       "645  fea13535-ade6-4215-96ca-dab5b4ef309b  6965XLY   \n",
       "\n",
       "                                            tiempo_sim  \n",
       "0    [0.0, 482520.0, 311850.0, 418680.0, 458820.0, ...  \n",
       "1                                     [0.0, 4524090.0]  \n",
       "2    [231120.0, 1811130.0, 1950900.0, 0.0, 2418600....  \n",
       "3    [791640.0, 618480.0, 894330.0, 827790.0, 59145...  \n",
       "4    [776190.0, 161310.0, 357180.0, 88740.0, 474390.0]  \n",
       "..                                                 ...  \n",
       "641                             [3901230.0, 3846930.0]  \n",
       "642  [252840.0, 801060.0, 310980.0, 0.0, 210720.0, ...  \n",
       "643  [723990.0, 1106700.0, 871290.0, 545490.0, 3529...  \n",
       "644  [576960.0, 287250.0, 278220.0, 516150.0, 19308...  \n",
       "645  [420690.0, 2215560.0, 198720.0, 372420.0, 3208...  \n",
       "\n",
       "[646 rows x 3 columns]"
      ]
     },
     "execution_count": 15,
     "metadata": {},
     "output_type": "execute_result"
    }
   ],
   "source": [
    "tiempos_sim = eventos[eventos.eventType.isin([\"Truck arrived\", \"Truck ended route\"])].sort_values([\"simulationId\",\"truckId\", \"eventTime\"]).groupby([\"simulationId\",\"truckId\"]).delta.agg(list).reset_index()\n",
    "tiempos_sim.rename(columns={\"delta\":\"tiempo_sim\"}, inplace=True)\n",
    "tiempos_sim"
   ]
  },
  {
   "cell_type": "code",
   "execution_count": 16,
   "metadata": {},
   "outputs": [],
   "source": [
    "retrasos = tiempos_sim.merge(tiempos_plan, on=[\"simulationId\",\"truckId\"]).dropna().reset_index(drop=True)"
   ]
  },
  {
   "cell_type": "code",
   "execution_count": 17,
   "metadata": {},
   "outputs": [
    {
     "ename": "NameError",
     "evalue": "name 'np' is not defined",
     "output_type": "error",
     "traceback": [
      "\u001b[1;31m---------------------------------------------------------------------------\u001b[0m",
      "\u001b[1;31mNameError\u001b[0m                                 Traceback (most recent call last)",
      "Cell \u001b[1;32mIn[17], line 1\u001b[0m\n\u001b[1;32m----> 1\u001b[0m retrasos[\u001b[39m\"\u001b[39m\u001b[39mretraso\u001b[39m\u001b[39m\"\u001b[39m] \u001b[39m=\u001b[39m retrasos\u001b[39m.\u001b[39;49mapply(\u001b[39mlambda\u001b[39;49;00m x: np\u001b[39m.\u001b[39;49marray(x\u001b[39m.\u001b[39;49mtiempo_sim)\u001b[39m-\u001b[39;49mnp\u001b[39m.\u001b[39;49marray(x\u001b[39m.\u001b[39;49mtiempo_plan), axis\u001b[39m=\u001b[39;49m\u001b[39m1\u001b[39;49m)\n",
      "File \u001b[1;32mc:\\Python310\\lib\\site-packages\\pandas\\core\\frame.py:9568\u001b[0m, in \u001b[0;36mDataFrame.apply\u001b[1;34m(self, func, axis, raw, result_type, args, **kwargs)\u001b[0m\n\u001b[0;32m   9557\u001b[0m \u001b[39mfrom\u001b[39;00m \u001b[39mpandas\u001b[39;00m\u001b[39m.\u001b[39;00m\u001b[39mcore\u001b[39;00m\u001b[39m.\u001b[39;00m\u001b[39mapply\u001b[39;00m \u001b[39mimport\u001b[39;00m frame_apply\n\u001b[0;32m   9559\u001b[0m op \u001b[39m=\u001b[39m frame_apply(\n\u001b[0;32m   9560\u001b[0m     \u001b[39mself\u001b[39m,\n\u001b[0;32m   9561\u001b[0m     func\u001b[39m=\u001b[39mfunc,\n\u001b[1;32m   (...)\u001b[0m\n\u001b[0;32m   9566\u001b[0m     kwargs\u001b[39m=\u001b[39mkwargs,\n\u001b[0;32m   9567\u001b[0m )\n\u001b[1;32m-> 9568\u001b[0m \u001b[39mreturn\u001b[39;00m op\u001b[39m.\u001b[39;49mapply()\u001b[39m.\u001b[39m__finalize__(\u001b[39mself\u001b[39m, method\u001b[39m=\u001b[39m\u001b[39m\"\u001b[39m\u001b[39mapply\u001b[39m\u001b[39m\"\u001b[39m)\n",
      "File \u001b[1;32mc:\\Python310\\lib\\site-packages\\pandas\\core\\apply.py:764\u001b[0m, in \u001b[0;36mFrameApply.apply\u001b[1;34m(self)\u001b[0m\n\u001b[0;32m    761\u001b[0m \u001b[39melif\u001b[39;00m \u001b[39mself\u001b[39m\u001b[39m.\u001b[39mraw:\n\u001b[0;32m    762\u001b[0m     \u001b[39mreturn\u001b[39;00m \u001b[39mself\u001b[39m\u001b[39m.\u001b[39mapply_raw()\n\u001b[1;32m--> 764\u001b[0m \u001b[39mreturn\u001b[39;00m \u001b[39mself\u001b[39;49m\u001b[39m.\u001b[39;49mapply_standard()\n",
      "File \u001b[1;32mc:\\Python310\\lib\\site-packages\\pandas\\core\\apply.py:891\u001b[0m, in \u001b[0;36mFrameApply.apply_standard\u001b[1;34m(self)\u001b[0m\n\u001b[0;32m    890\u001b[0m \u001b[39mdef\u001b[39;00m \u001b[39mapply_standard\u001b[39m(\u001b[39mself\u001b[39m):\n\u001b[1;32m--> 891\u001b[0m     results, res_index \u001b[39m=\u001b[39m \u001b[39mself\u001b[39;49m\u001b[39m.\u001b[39;49mapply_series_generator()\n\u001b[0;32m    893\u001b[0m     \u001b[39m# wrap results\u001b[39;00m\n\u001b[0;32m    894\u001b[0m     \u001b[39mreturn\u001b[39;00m \u001b[39mself\u001b[39m\u001b[39m.\u001b[39mwrap_results(results, res_index)\n",
      "File \u001b[1;32mc:\\Python310\\lib\\site-packages\\pandas\\core\\apply.py:907\u001b[0m, in \u001b[0;36mFrameApply.apply_series_generator\u001b[1;34m(self)\u001b[0m\n\u001b[0;32m    904\u001b[0m \u001b[39mwith\u001b[39;00m option_context(\u001b[39m\"\u001b[39m\u001b[39mmode.chained_assignment\u001b[39m\u001b[39m\"\u001b[39m, \u001b[39mNone\u001b[39;00m):\n\u001b[0;32m    905\u001b[0m     \u001b[39mfor\u001b[39;00m i, v \u001b[39min\u001b[39;00m \u001b[39menumerate\u001b[39m(series_gen):\n\u001b[0;32m    906\u001b[0m         \u001b[39m# ignore SettingWithCopy here in case the user mutates\u001b[39;00m\n\u001b[1;32m--> 907\u001b[0m         results[i] \u001b[39m=\u001b[39m \u001b[39mself\u001b[39;49m\u001b[39m.\u001b[39;49mf(v)\n\u001b[0;32m    908\u001b[0m         \u001b[39mif\u001b[39;00m \u001b[39misinstance\u001b[39m(results[i], ABCSeries):\n\u001b[0;32m    909\u001b[0m             \u001b[39m# If we have a view on v, we need to make a copy because\u001b[39;00m\n\u001b[0;32m    910\u001b[0m             \u001b[39m#  series_generator will swap out the underlying data\u001b[39;00m\n\u001b[0;32m    911\u001b[0m             results[i] \u001b[39m=\u001b[39m results[i]\u001b[39m.\u001b[39mcopy(deep\u001b[39m=\u001b[39m\u001b[39mFalse\u001b[39;00m)\n",
      "Cell \u001b[1;32mIn[17], line 1\u001b[0m, in \u001b[0;36m<lambda>\u001b[1;34m(x)\u001b[0m\n\u001b[1;32m----> 1\u001b[0m retrasos[\u001b[39m\"\u001b[39m\u001b[39mretraso\u001b[39m\u001b[39m\"\u001b[39m] \u001b[39m=\u001b[39m retrasos\u001b[39m.\u001b[39mapply(\u001b[39mlambda\u001b[39;00m x: np\u001b[39m.\u001b[39marray(x\u001b[39m.\u001b[39mtiempo_sim)\u001b[39m-\u001b[39mnp\u001b[39m.\u001b[39marray(x\u001b[39m.\u001b[39mtiempo_plan), axis\u001b[39m=\u001b[39m\u001b[39m1\u001b[39m)\n",
      "\u001b[1;31mNameError\u001b[0m: name 'np' is not defined"
     ]
    }
   ],
   "source": [
    "retrasos[\"retraso\"] = retrasos.apply(lambda x: np.array(x.tiempo_sim)-np.array(x.tiempo_plan), axis=1)"
   ]
  },
  {
   "cell_type": "code",
   "execution_count": null,
   "metadata": {},
   "outputs": [],
   "source": [
    "valores_retraso = retrasos.explode(\"retraso\").reset_index(drop=True)\n",
    "valores_retraso.retraso.apply(lambda x: x/1000).describe()"
   ]
  },
  {
   "cell_type": "code",
   "execution_count": null,
   "metadata": {},
   "outputs": [],
   "source": [
    "cargaCamiones = planes.trucks.explode().apply(pd.Series).rename(columns={\"items\":\"truckItems\"}).join(planes.drop(columns=[\"trucks\"]), how= \"left\").reset_index(drop=True)"
   ]
  },
  {
   "cell_type": "code",
   "execution_count": null,
   "metadata": {},
   "outputs": [],
   "source": [
    "from collections import Counter\n",
    "cargaCamiones=cargaCamiones.assign(paquetesEntregados=cargaCamiones.apply(lambda x: list(Counter([x[\"items\"][int(k)][\"locationId\"] for k in x[\"truckItems\"]]).values()), axis=1))"
   ]
  },
  {
   "cell_type": "code",
   "execution_count": null,
   "metadata": {},
   "outputs": [],
   "source": [
    "cargaCamiones"
   ]
  }
 ],
 "metadata": {
  "kernelspec": {
   "display_name": "Python 3",
   "language": "python",
   "name": "python3"
  },
  "language_info": {
   "codemirror_mode": {
    "name": "ipython",
    "version": 3
   },
   "file_extension": ".py",
   "mimetype": "text/x-python",
   "name": "python",
   "nbconvert_exporter": "python",
   "pygments_lexer": "ipython3",
   "version": "3.10.2"
  },
  "orig_nbformat": 4,
  "vscode": {
   "interpreter": {
    "hash": "c0de1fe606f85d3f2aa9a903f2b0bf89b43d937b91ee737bd06cf0188ff610aa"
   }
  }
 },
 "nbformat": 4,
 "nbformat_minor": 2
}
