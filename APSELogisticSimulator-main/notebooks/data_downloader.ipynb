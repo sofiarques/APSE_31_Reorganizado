{
 "cells": [
  {
   "cell_type": "code",
   "execution_count": 1,
   "metadata": {},
   "outputs": [
    {
     "ename": "ModuleNotFoundError",
     "evalue": "No module named 'utm'",
     "output_type": "error",
     "traceback": [
      "\u001b[1;31m---------------------------------------------------------------------------\u001b[0m",
      "\u001b[1;31mModuleNotFoundError\u001b[0m                       Traceback (most recent call last)",
      "Cell \u001b[1;32mIn[1], line 2\u001b[0m\n\u001b[0;32m      1\u001b[0m \u001b[39mimport\u001b[39;00m \u001b[39mpandas\u001b[39;00m \u001b[39mas\u001b[39;00m \u001b[39mpd\u001b[39;00m\n\u001b[1;32m----> 2\u001b[0m \u001b[39mimport\u001b[39;00m \u001b[39mutm\u001b[39;00m\n\u001b[0;32m      3\u001b[0m \u001b[39mimport\u001b[39;00m \u001b[39mjson\u001b[39;00m\n",
      "\u001b[1;31mModuleNotFoundError\u001b[0m: No module named 'utm'"
     ]
    }
   ],
   "source": [
    "import pandas as pd\n",
    "import utm\n",
    "import json"
   ]
  },
  {
   "cell_type": "code",
   "execution_count": 2,
   "metadata": {},
   "outputs": [
    {
     "ename": "NameError",
     "evalue": "name 'utm' is not defined",
     "output_type": "error",
     "traceback": [
      "\u001b[1;31m---------------------------------------------------------------------------\u001b[0m",
      "\u001b[1;31mNameError\u001b[0m                                 Traceback (most recent call last)",
      "Cell \u001b[1;32mIn[2], line 6\u001b[0m\n\u001b[0;32m      3\u001b[0m df \u001b[39m=\u001b[39m pd\u001b[39m.\u001b[39mread_csv(url, sep\u001b[39m=\u001b[39m\u001b[39m\"\u001b[39m\u001b[39m;\u001b[39m\u001b[39m\"\u001b[39m, encoding\u001b[39m=\u001b[39m\u001b[39m\"\u001b[39m\u001b[39mlatin-1\u001b[39m\u001b[39m\"\u001b[39m)\n\u001b[0;32m      5\u001b[0m \u001b[39m# convert coordinates\u001b[39;00m\n\u001b[1;32m----> 6\u001b[0m df[\u001b[39m\"\u001b[39m\u001b[39mlat\u001b[39m\u001b[39m\"\u001b[39m], df[\u001b[39m\"\u001b[39m\u001b[39mlon\u001b[39m\u001b[39m\"\u001b[39m] \u001b[39m=\u001b[39m utm\u001b[39m.\u001b[39mto_latlon(df[\u001b[39m\"\u001b[39m\u001b[39mlocalizacion_coordenada_x\u001b[39m\u001b[39m\"\u001b[39m], df[\u001b[39m\"\u001b[39m\u001b[39mlocalizacion_coordenada_y\u001b[39m\u001b[39m\"\u001b[39m], \u001b[39m30\u001b[39m, \u001b[39m\"\u001b[39m\u001b[39mN\u001b[39m\u001b[39m\"\u001b[39m)\n\u001b[0;32m      8\u001b[0m \u001b[39m# create name column\u001b[39;00m\n\u001b[0;32m      9\u001b[0m df[\u001b[39m\"\u001b[39m\u001b[39mname\u001b[39m\u001b[39m\"\u001b[39m] \u001b[39m=\u001b[39m df[\u001b[39m\"\u001b[39m\u001b[39mdireccion_vial_tipo\u001b[39m\u001b[39m\"\u001b[39m]\u001b[39m.\u001b[39mstr\u001b[39m.\u001b[39mlower() \u001b[39m+\u001b[39m \u001b[39m\"\u001b[39m\u001b[39m \u001b[39m\u001b[39m\"\u001b[39m \u001b[39m+\u001b[39m df[\u001b[39m\"\u001b[39m\u001b[39mdireccion_vial_nombre\u001b[39m\u001b[39m\"\u001b[39m] \u001b[39m+\u001b[39m \u001b[39m\"\u001b[39m\u001b[39m, \u001b[39m\u001b[39m\"\u001b[39m \u001b[39m+\u001b[39m df[\u001b[39m\"\u001b[39m\u001b[39mdireccion_vial_nro\u001b[39m\u001b[39m\"\u001b[39m] \u001b[39m+\u001b[39m \u001b[39m\"\u001b[39m\u001b[39m, \u001b[39m\u001b[39m\"\u001b[39m \u001b[39m+\u001b[39m df[\u001b[39m\"\u001b[39m\u001b[39mmunicipio_nombre\u001b[39m\u001b[39m\"\u001b[39m]\n",
      "\u001b[1;31mNameError\u001b[0m: name 'utm' is not defined"
     ]
    }
   ],
   "source": [
    "# read data from url\n",
    "url = \"https://datos.comunidad.madrid/catalogo/dataset/6f407280-6ab1-43fb-bb48-ab954ec6edae/resource/130c1f6e-b131-44a1-94c9-00c9bb807ca6/download/oficinas_farmacia.csv\"\n",
    "df = pd.read_csv(url, sep=\";\", encoding=\"latin-1\")\n",
    "\n",
    "# convert coordinates\n",
    "df[\"lat\"], df[\"lon\"] = utm.to_latlon(df[\"localizacion_coordenada_x\"], df[\"localizacion_coordenada_y\"], 30, \"N\")\n",
    "\n",
    "# create name column\n",
    "df[\"name\"] = df[\"direccion_vial_tipo\"].str.lower() + \" \" + df[\"direccion_vial_nombre\"] + \", \" + df[\"direccion_vial_nro\"] + \", \" + df[\"municipio_nombre\"]\n",
    "\n",
    "# drop null values\n",
    "df.dropna(inplace=True)\n",
    "\n",
    "# create dictionary and transform data to required format\n",
    "data = df[[\"name\", \"lon\", \"lat\"]].to_dict(orient=\"records\")\n",
    "data = [{\"name\": x[\"name\"], \"coordinates\": {\"longitude\": x[\"lon\"], \"latitude\": x[\"lat\"]}} for x in data]\n",
    "\n",
    "# save data as json\n",
    "with open(\"../data/farmacias/farmacias.json\", \"w\") as outfile:\n",
    "    json.dump(data, outfile)\n"
   ]
  }
 ],
 "metadata": {
  "kernelspec": {
   "display_name": "Python 3",
   "language": "python",
   "name": "python3"
  },
  "language_info": {
   "codemirror_mode": {
    "name": "ipython",
    "version": 3
   },
   "file_extension": ".py",
   "mimetype": "text/x-python",
   "name": "python",
   "nbconvert_exporter": "python",
   "pygments_lexer": "ipython3",
   "version": "3.10.2"
  },
  "orig_nbformat": 4,
  "vscode": {
   "interpreter": {
    "hash": "c0de1fe606f85d3f2aa9a903f2b0bf89b43d937b91ee737bd06cf0188ff610aa"
   }
  }
 },
 "nbformat": 4,
 "nbformat_minor": 2
}
